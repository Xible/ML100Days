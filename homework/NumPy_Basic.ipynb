{
 "cells": [
  {
   "cell_type": "raw",
   "metadata": {},
   "source": [
    "import numpy as np ## import numpy 套件，並其命名為 np\n",
    "np.__version__"
   ]
  },
  {
   "cell_type": "raw",
   "metadata": {},
   "source": [
    "import numpy as np\n",
    "\n",
    "## 等差產生一個有 21 的元素的陣列 (從0開始，直到 20)\n",
    "np_List = np.arange(21)\n",
    "print(\"np_List play : \" ,np_List)\n",
    "\n",
    "## 從上述產生的 List 中，挑選為 2 倍數的元素\n",
    "TakeEven = np_List[2::2]\n",
    "print(\"np_List even number : \",TakeEven)\n",
    "\n",
    "## 從上述產生的 List 中，挑選為 3 倍數的元素\n",
    "TakeThree = np_List[3::3]\n",
    "print(\"np_List even number : \",TakeThree)\n",
    "\n",
    "print (\"\\n#### 以下為自主練習產生等差陣列用法\")\n",
    "\n",
    "## 等差產生一個從 5 開始，到 20 結束的陣列 (元素並不會包含到 20)\n",
    "testArange = np.arange(5,20,3) #依照起始值、結束值、間隔值做等差的數字序列\n",
    "print(\"Arange List : \", testArange)\n",
    "\n",
    "## 等差產生一個從 5 開始，到 20 結束的陣列 (等差的值是由產生的 num 數量去計算決定)\n",
    "testLinspace = np.linspace(5, 20, num=5, endpoint=True, dtype=int) #依照起始值、結束值、陣列數量、是否包含結束值、陣列元素型態做等差的數字序列\n",
    "print(\"Linspace List : \", testLinspace)"
   ]
  },
  {
   "cell_type": "code",
   "execution_count": null,
   "metadata": {},
   "outputs": [],
   "source": []
  },
  {
   "cell_type": "code",
   "execution_count": null,
   "metadata": {},
   "outputs": [],
   "source": []
  }
 ],
 "metadata": {
  "kernelspec": {
   "display_name": "Python 3",
   "language": "python",
   "name": "python3"
  },
  "language_info": {
   "codemirror_mode": {
    "name": "ipython",
    "version": 3
   },
   "file_extension": ".py",
   "mimetype": "text/x-python",
   "name": "python",
   "nbconvert_exporter": "python",
   "pygments_lexer": "ipython3",
   "version": "3.6.4"
  }
 },
 "nbformat": 4,
 "nbformat_minor": 2
}
